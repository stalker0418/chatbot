{
 "cells": [
  {
   "cell_type": "code",
   "execution_count": 1,
   "metadata": {},
   "outputs": [
    {
     "name": "stderr",
     "output_type": "stream",
     "text": [
      "c:\\Users\\pakal\\Downloads\\chatbot\\chatbot_env\\Lib\\site-packages\\pinecone\\data\\index.py:1: TqdmWarning: IProgress not found. Please update jupyter and ipywidgets. See https://ipywidgets.readthedocs.io/en/stable/user_install.html\n",
      "  from tqdm.autonotebook import tqdm\n"
     ]
    }
   ],
   "source": [
    "from langchain import PromptTemplate\n",
    "from langchain.chains import RetrievalQA\n",
    "from langchain.embeddings import HuggingFaceEmbeddings\n",
    "from langchain.vectorstores import Pinecone\n",
    "import pinecone\n",
    "from langchain.document_loaders import PyPDFLoader, DirectoryLoader\n",
    "from langchain.text_splitter import RecursiveCharacterTextSplitter\n",
    "from langchain.prompts import PromptTemplate\n",
    "from langchain.llms import CTransformers"
   ]
  },
  {
   "cell_type": "code",
   "execution_count": 2,
   "metadata": {},
   "outputs": [],
   "source": [
    "#Extract data from the PDF\n",
    "def load_pdf(data):\n",
    "    loader = DirectoryLoader(data,\n",
    "                    glob=\"*.pdf\",\n",
    "                    loader_cls=PyPDFLoader)\n",
    "    \n",
    "    documents = loader.load()\n",
    "\n",
    "    return documents"
   ]
  },
  {
   "cell_type": "code",
   "execution_count": 3,
   "metadata": {},
   "outputs": [],
   "source": [
    "extracted_data = load_pdf(\"../data/\")"
   ]
  },
  {
   "cell_type": "code",
   "execution_count": 4,
   "metadata": {},
   "outputs": [],
   "source": [
    "#Create text chunks\n",
    "def text_split(extracted_data):\n",
    "    text_splitter = RecursiveCharacterTextSplitter(chunk_size = 500, chunk_overlap = 20)\n",
    "    text_chunks = text_splitter.split_documents(extracted_data)\n",
    "\n",
    "    return text_chunks"
   ]
  },
  {
   "cell_type": "code",
   "execution_count": 5,
   "metadata": {},
   "outputs": [],
   "source": [
    "text_chunks = text_split(extracted_data)"
   ]
  },
  {
   "cell_type": "code",
   "execution_count": 6,
   "metadata": {},
   "outputs": [
    {
     "name": "stdout",
     "output_type": "stream",
     "text": [
      "4359\n"
     ]
    }
   ],
   "source": [
    "print(len(text_chunks))"
   ]
  },
  {
   "cell_type": "code",
   "execution_count": 7,
   "metadata": {},
   "outputs": [],
   "source": [
    "#download embedding model\n",
    "def download_hugging_face_embeddings():\n",
    "    embeddings = HuggingFaceEmbeddings(model_name=\"sentence-transformers/all-MiniLM-L6-v2\")\n",
    "    return embeddings"
   ]
  },
  {
   "cell_type": "code",
   "execution_count": 8,
   "metadata": {},
   "outputs": [
    {
     "name": "stderr",
     "output_type": "stream",
     "text": [
      "c:\\Users\\pakal\\Downloads\\chatbot\\chatbot_env\\Lib\\site-packages\\transformers\\tokenization_utils_base.py:1617: FutureWarning: `clean_up_tokenization_spaces` was not set. It will be set to `True` by default. This behavior will be deprecated in transformers v4.45, and will be then set to `False` by default. For more details check this issue: https://github.com/huggingface/transformers/issues/31884\n",
      "  warnings.warn(\n"
     ]
    }
   ],
   "source": [
    "embeddings = download_hugging_face_embeddings()"
   ]
  },
  {
   "cell_type": "code",
   "execution_count": 26,
   "metadata": {},
   "outputs": [
    {
     "data": {
      "text/plain": [
       "<bound method HuggingFaceEmbeddings.embed_documents of HuggingFaceEmbeddings(client=SentenceTransformer(\n",
       "  (0): Transformer({'max_seq_length': 256, 'do_lower_case': False}) with Transformer model: BertModel \n",
       "  (1): Pooling({'word_embedding_dimension': 384, 'pooling_mode_cls_token': False, 'pooling_mode_mean_tokens': True, 'pooling_mode_max_tokens': False, 'pooling_mode_mean_sqrt_len_tokens': False})\n",
       "  (2): Normalize()\n",
       "), model_name='sentence-transformers/all-MiniLM-L6-v2', cache_folder=None, model_kwargs={}, encode_kwargs={})>"
      ]
     },
     "execution_count": 26,
     "metadata": {},
     "output_type": "execute_result"
    }
   ],
   "source": [
    "embeddings.embed_documents"
   ]
  },
  {
   "cell_type": "code",
   "execution_count": 11,
   "metadata": {},
   "outputs": [
    {
     "name": "stdout",
     "output_type": "stream",
     "text": [
      "Length 384 <class 'list'>\n",
      "[-0.03447727486491203, 0.03102312609553337, 0.006734980270266533, 0.026108933612704277, -0.03936205804347992, -0.16030246019363403, 0.06692394614219666, -0.006441438104957342, -0.047450482845306396, 0.014758863486349583, 0.07087534666061401, 0.05552757531404495, 0.019193356856703758, -0.02625126577913761, -0.01010954286903143, -0.026940442621707916, 0.022307462990283966, -0.02222665585577488, -0.14969263970851898, -0.017493024468421936, 0.007676282897591591, 0.054352231323719025, 0.0032544038258492947, 0.03172588348388672, -0.08462139964103699, -0.029405992478132248, 0.051595550030469894, 0.048124078661203384, -0.003314835485070944, -0.05827915295958519, 0.04196925833821297, 0.022210702300071716, 0.1281888633966446, -0.022338951006531715, -0.011656239628791809, 0.06292837113142014, -0.03287634998559952, -0.09122604131698608, -0.03117534890770912, 0.052699536085128784, 0.04703483358025551, -0.08420310169458389, -0.030056182295084, -0.020744839683175087, 0.009517822414636612, -0.003721762914210558, 0.00734331738203764, 0.03932439535856247, 0.09327399730682373, -0.0037885578349232674, -0.05274209380149841, -0.05805816873908043, -0.006864397320896387, 0.005283216945827007, 0.0828929990530014, 0.019362706691026688, 0.006284490693360567, -0.010330768302083015, 0.009032364934682846, -0.037683695554733276, -0.045206066220998764, 0.024016287177801132, -0.006944162305444479, 0.013491649180650711, 0.10005491971969604, -0.07168387621641159, -0.021695099771022797, 0.03161845728754997, -0.05163457617163658, -0.0822477638721466, -0.06569331884384155, -0.009895353578031063, 0.005816371645778418, 0.07355457544326782, -0.03405033051967621, 0.02488613687455654, 0.014488051645457745, 0.02645733952522278, 0.00965669471770525, 0.03021721914410591, 0.05280400812625885, -0.07535992562770844, 0.009897175244987011, 0.02983679808676243, 0.01755562797188759, 0.02309201844036579, 0.0019338484853506088, 0.0014002117095515132, -0.047175947576761246, -0.01119430921971798, -0.11420140415430069, -0.019811974838376045, 0.04026620835065842, 0.002193015068769455, -0.07979219406843185, -0.025382323190569878, 0.09448298066854477, -0.028981072828173637, -0.1450025588274002, 0.23097744584083557, 0.027731169015169144, 0.03211147338151932, 0.03106500953435898, 0.04283282533288002, 0.06423778086900711, 0.03216315060853958, -0.004876742139458656, 0.05569940060377121, -0.03753245621919632, -0.021505557000637054, -0.02834269404411316, -0.028846969828009605, 0.038353074342012405, -0.017468687146902084, 0.052485279738903046, -0.07487601786851883, -0.03125973790884018, 0.021841581910848618, -0.039895690977573395, -0.008587119169533253, 0.026956595480442047, -0.04849553480744362, 0.011469870805740356, 0.029618198052048683, -0.02057221718132496, 0.013103905133903027, 0.02883351780474186, -3.194198350138249e-33, 0.06478210538625717, -0.01813018135726452, 0.05178992450237274, 0.12198279052972794, 0.028780171647667885, 0.008721987716853619, -0.07052117586135864, -0.016907278448343277, 0.04073971137404442, 0.042116183787584305, 0.025447247549891472, 0.03574629873037338, -0.049144718796014786, 0.002128997351974249, -0.01554661151021719, 0.05073055252432823, -0.04818534478545189, 0.035880617797374725, -0.004067136440426111, 0.10172470659017563, -0.05597003176808357, -0.010681075975298882, 0.011235758662223816, 0.09068655222654343, 0.00423447648063302, 0.035138633102178574, -0.009702893905341625, -0.09386512637138367, 0.0928555577993393, 0.008004925213754177, -0.00770544121041894, -0.05208677053451538, -0.012587991543114185, 0.003266935469582677, 0.006013551261276007, 0.007581597194075584, 0.01051716785877943, -0.08634556829929352, -0.06987878680229187, -0.002533907536417246, -0.09097649902105331, 0.046887341886758804, 0.052076555788517, 0.007193804252892733, 0.010903613641858101, -0.005229524336755276, 0.013937273994088173, 0.021968383342027664, 0.03420863673090935, 0.06022472307085991, 0.00011663129407679662, 0.0147319370880723, -0.07008928060531616, 0.02849903330206871, -0.02760171703994274, 0.010768436826765537, 0.03483092784881592, -0.022487863898277283, 0.009769013151526451, 0.07722778618335724, 0.02158835344016552, 0.11495622247457504, -0.06800112128257751, 0.023760998621582985, -0.015983954071998596, -0.017826983705163002, 0.06439491361379623, 0.032025717198848724, 0.050270259380340576, -0.005913740489631891, -0.03370802477002144, 0.017840281128883362, 0.01657339744269848, 0.0632966086268425, 0.034677211195230484, 0.04647349566221237, 0.09790609776973724, -0.006635513622313738, 0.025207048282027245, -0.07798825949430466, 0.016926418989896774, -0.0009457779233343899, 0.022471917793154716, -0.03825320303440094, 0.09570479393005371, -0.005350787658244371, 0.010469076223671436, -0.11524051427841187, -0.013262561522424221, -0.010709395632147789, -0.08311726897954941, 0.07327356934547424, 0.04939223825931549, -0.00899433996528387, -0.09584550559520721, 3.366148929092564e-33, 0.12493181973695755, 0.01934974081814289, -0.05822570249438286, -0.03598824888467789, -0.050746724009513855, -0.04566236957907677, -0.08260342478752136, 0.14819477498531342, -0.08842118829488754, 0.06027447059750557, 0.05103014037013054, 0.010303172282874584, 0.14121423661708832, 0.030813811346888542, 0.06103315204381943, -0.052851274609565735, 0.13664892315864563, 0.009189884178340435, -0.01732519268989563, -0.012848627753555775, -0.00799529068171978, -0.05098007991909981, -0.05235067382454872, 0.007593018934130669, -0.015166306868195534, 0.01696031726896763, 0.021270545199513435, 0.020558075979351997, -0.12002813071012497, 0.01446185540407896, 0.026759909465909004, 0.025330649688839912, -0.04275461286306381, 0.006768523249775171, -0.01445859856903553, 0.04526195675134659, -0.09147650748491287, -0.019439177587628365, -0.017833411693572998, -0.054910145699977875, -0.05264107510447502, -0.010459030978381634, -0.05201607942581177, 0.02089197374880314, -0.07997031509876251, -0.012111341580748558, -0.05773143470287323, 0.023178255185484886, -0.008031717501580715, -0.02598929964005947, -0.07995675504207611, -0.02072884514927864, 0.04881766065955162, -0.020389163866639137, -0.04917655140161514, 0.014159641228616238, -0.06362203508615494, -0.007807410322129726, 0.016431529074907303, -0.025682512670755386, 0.013381082564592361, 0.026248749345541, 0.009978425689041615, 0.06322886049747467, 0.0026721833273768425, -0.006582764443010092, 0.016631918027997017, 0.03236647695302963, 0.037942491471767426, -0.03637608885765076, -0.00691094808280468, 0.00015967199578881264, -0.0016335744876414537, -0.027278205379843712, -0.028038082644343376, 0.049681469798088074, -0.028867201879620552, -0.0024180635809898376, 0.014774911105632782, 0.009764522314071655, 0.0057976427488029, 0.013486180454492569, 0.005567898042500019, 0.03722712770104408, 0.007232568226754665, 0.0401562824845314, 0.08150329440832138, 0.0719916895031929, -0.013056193478405476, -0.042882055044174194, -0.011011265218257904, 0.004897848702967167, -0.009229736402630806, 0.03519150987267494, -0.05103505402803421, -1.571437735492509e-08, -0.08862441778182983, 0.02390933223068714, -0.016238776966929436, 0.0317004919052124, 0.02728421799838543, 0.05246885120868683, -0.047070927917957306, -0.05884743481874466, -0.06320816278457642, 0.04088856652379036, 0.049827951937913895, 0.10655169188976288, -0.07450232654809952, -0.01249542087316513, 0.01837068982422352, 0.039474111050367355, -0.024797888472676277, 0.014516275376081467, -0.037069227546453476, 0.020015744492411613, -4.8564306780463085e-05, 0.009866592474281788, 0.024838760495185852, -0.052458155900239944, 0.0293141920119524, -0.08719189465045929, -0.014499715529382229, 0.026019079610705376, -0.018746377900242805, -0.07620511204004288, 0.03504331782460213, 0.10363952070474625, -0.028050491586327553, 0.01271819043904543, -0.07632547616958618, -0.018652357161045074, 0.024976696819067, 0.08144534379243851, 0.06875885277986526, -0.06405666470527649, -0.08389385789632797, 0.0613623782992363, -0.033545542508363724, -0.10615336894989014, -0.04008054360747337, 0.03253024443984032, 0.07662481814622879, -0.07301618903875351, 0.00033757087658159435, -0.040871601551771164, -0.0757884755730629, 0.0275277066975832, 0.0746254101395607, 0.01771729439496994, 0.0912184864282608, 0.11022017151117325, 0.0005698017776012421, 0.051463354378938675, -0.01455135177820921, 0.03323202580213547, 0.02379227988421917, -0.022889869287610054, 0.0389375165104866, 0.030206838622689247]\n"
     ]
    }
   ],
   "source": [
    "query_result = embeddings.embed_query(\"Hello world\")\n",
    "print(\"Length\", len(query_result), type(query_result))\n",
    "\n"
   ]
  },
  {
   "cell_type": "code",
   "execution_count": 33,
   "metadata": {},
   "outputs": [],
   "source": [
    "from langchain.vectorstores import Pinecone as langchain_pinecone\n",
    "from pinecone import Pinecone\n",
    "\n",
    "pinecone_api_key = \"\"\n",
    "\n",
    "pc = Pinecone(api_key= pinecone_api_key)\n",
    "index = pc.Index(\"chatbot\")\n",
    "vectorstore = langchain_pinecone(index, embeddings.embed_query, text_key=\"content\")"
   ]
  },
  {
   "cell_type": "code",
   "execution_count": null,
   "metadata": {},
   "outputs": [],
   "source": [
    "vectorstore.add_documents(t for t in text_chunks)"
   ]
  },
  {
   "cell_type": "code",
   "execution_count": 44,
   "metadata": {},
   "outputs": [
    {
     "data": {
      "text/plain": [
       "{'dimension': 384,\n",
       " 'index_fullness': 0.0,\n",
       " 'namespaces': {'': {'vector_count': 4685}},\n",
       " 'total_vector_count': 4685}"
      ]
     },
     "execution_count": 44,
     "metadata": {},
     "output_type": "execute_result"
    }
   ],
   "source": [
    "index.describe_index_stats()\n",
    "# result = vectorstore.similarity_search_with_score(query=\"What is BERT?\", k=4)"
   ]
  },
  {
   "cell_type": "code",
   "execution_count": 55,
   "metadata": {},
   "outputs": [
    {
     "data": {
      "text/plain": [
       "{'matches': [{'id': 'ed1837af-859b-42a2-8154-9a3deb913a53',\n",
       "              'score': 0.582077086,\n",
       "              'values': []},\n",
       "             {'id': 'd1bb1eb8-726c-4412-ab53-334a868786a2',\n",
       "              'score': 0.562841952,\n",
       "              'values': []},\n",
       "             {'id': '7156364c-5e21-4f81-a7f2-beed6b321f54',\n",
       "              'score': 0.528902709,\n",
       "              'values': []},\n",
       "             {'id': '2721f573-d2b5-4ac7-8e70-6a9e1c2823de',\n",
       "              'score': 0.514712095,\n",
       "              'values': []}],\n",
       " 'namespace': '',\n",
       " 'usage': {'read_units': 5}}"
      ]
     },
     "execution_count": 55,
     "metadata": {},
     "output_type": "execute_result"
    }
   ],
   "source": [
    "query = \"What is BeRT?\"\n",
    "similarity_result = index.query(vector=embeddings.embed_query(query), top_k=4)"
   ]
  },
  {
   "cell_type": "code",
   "execution_count": 68,
   "metadata": {},
   "outputs": [],
   "source": [
    "# query_answer = result['vectors'][id1]['metadata']['content']"
   ]
  },
  {
   "cell_type": "code",
   "execution_count": 69,
   "metadata": {},
   "outputs": [
    {
     "name": "stdout",
     "output_type": "stream",
     "text": [
      "• It is replaced with the unique vocabulary token [MASK] .\n",
      "• It is replaced with another token from the vocabulary, randomly sampled\n",
      "based on token unigram probabilities.\n",
      "• It is left unchanged.\n",
      "In BERT, 15% of the input tokens in a training sequence are sampled for learning.\n",
      "Of these, 80% are replaced with [MASK] , 10% are replaced with randomly selected\n",
      "tokens, and the remaining 10% are left unchanged.\n",
      "The MLM training objective is to predict the original inputs for each of the\n"
     ]
    }
   ],
   "source": [
    "# print(query_answer)"
   ]
  },
  {
   "cell_type": "code",
   "execution_count": null,
   "metadata": {},
   "outputs": [],
   "source": []
  }
 ],
 "metadata": {
  "kernelspec": {
   "display_name": "chatbot_env",
   "language": "python",
   "name": "python3"
  },
  "language_info": {
   "codemirror_mode": {
    "name": "ipython",
    "version": 3
   },
   "file_extension": ".py",
   "mimetype": "text/x-python",
   "name": "python",
   "nbconvert_exporter": "python",
   "pygments_lexer": "ipython3",
   "version": "3.11.4"
  }
 },
 "nbformat": 4,
 "nbformat_minor": 2
}
